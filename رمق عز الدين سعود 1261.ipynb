{
 "cells": [
  {
   "cell_type": "markdown",
   "id": "8c1ee930",
   "metadata": {},
   "source": [
    "# الوظيفة الأولى \n",
    "رمق عزالدين سعود\n",
    "1261"
   ]
  },
  {
   "cell_type": "code",
   "execution_count": 3,
   "id": "04edb042",
   "metadata": {},
   "outputs": [
    {
     "name": "stdout",
     "output_type": "stream",
     "text": [
      "Enter Name:ramaq\n",
      "ramaq is graduated\n"
     ]
    }
   ],
   "source": [
    "#السؤال الأول الطلب الأول\n",
    "\n",
    "grad_students=['ramaq','saeed','ahmad','samar','rana']\n",
    "sname=input('Enter Name:')\n",
    "if sname in grad_students:\n",
    "    print(sname,'is graduated')\n",
    "else:\n",
    "    print(sname,\"is'nt graduated\")\n"
   ]
  },
  {
   "cell_type": "code",
   "execution_count": 11,
   "id": "269d4bed",
   "metadata": {},
   "outputs": [
    {
     "name": "stdout",
     "output_type": "stream",
     "text": [
      "[1, 3, 5, 7, 9, 11, 13, 15, 17, 19, 21, 23, 25, 27, 29, 31, 33, 35, 37, 39, 41, 43, 45, 47, 49, 51, 53, 55, 57, 59, 61, 63, 65, 67, 69, 71, 73, 75, 77, 79, 81, 83, 85, 87, 89, 91, 93, 95, 97, 99, 101, 103, 105, 107, 109, 111, 113, 115, 117, 119, 121, 123, 125, 127, 129, 131, 133, 135, 137, 139, 141, 143, 145, 147, 149, 151, 153, 155, 157, 159, 161, 163, 165, 167, 169, 171, 173, 175, 177, 179, 181, 183, 185, 187, 189, 191, 193, 195, 197, 199, 201, 203, 205, 207, 209, 211, 213, 215, 217, 219, 221, 223, 225, 227, 229, 231, 233, 235, 237, 239, 241, 243, 245, 247, 249, 251, 253, 255, 257, 259, 261, 263, 265, 267, 269, 271, 273, 275, 277, 279, 281, 283, 285, 287, 289, 291, 293, 295, 297, 299, 301, 303, 305, 307, 309, 311, 313, 315, 317, 319, 321, 323, 325, 327, 329, 331, 333, 335, 337, 339, 341, 343, 345, 347, 349, 351, 353, 355, 357, 359, 361, 363, 365, 367, 369, 371, 373, 375, 377, 379, 381, 383, 385, 387, 389, 391, 393, 395, 397, 399, 401, 403, 405, 407, 409, 411, 413, 415, 417, 419, 421, 423, 425, 427, 429, 431, 433, 435, 437, 439, 441, 443, 445, 447, 449, 451, 453, 455, 457, 459, 461, 463, 465, 467, 469, 471, 473, 475, 477, 479, 481, 483, 485, 487, 489, 491, 493, 495, 497, 499, 501, 503, 505, 507, 509, 511, 513, 515, 517, 519, 521, 523, 525, 527, 529, 531, 533, 535, 537, 539, 541, 543, 545, 547, 549, 551, 553, 555, 557, 559, 561, 563, 565, 567, 569, 571, 573, 575, 577, 579, 581, 583, 585, 587, 589, 591, 593, 595, 597, 599, 601, 603, 605, 607, 609, 611, 613, 615, 617, 619, 621, 623, 625, 627, 629, 631, 633, 635, 637, 639, 641, 643, 645, 647, 649, 651, 653, 655, 657, 659, 661, 663, 665, 667, 669, 671, 673, 675, 677, 679, 681, 683, 685, 687, 689, 691, 693, 695, 697, 699, 701, 703, 705, 707, 709, 711, 713, 715, 717, 719, 721, 723, 725, 727, 729, 731, 733, 735, 737, 739, 741, 743, 745, 747, 749, 751, 753, 755, 757, 759, 761, 763, 765, 767, 769, 771, 773, 775, 777, 779, 781, 783, 785, 787, 789, 791, 793, 795, 797, 799, 801, 803, 805, 807, 809, 811, 813, 815, 817, 819, 821, 823, 825, 827, 829, 831, 833, 835, 837, 839, 841, 843, 845, 847, 849, 851, 853, 855, 857, 859, 861, 863, 865, 867, 869, 871, 873, 875, 877, 879, 881, 883, 885, 887, 889, 891, 893, 895, 897, 899, 901, 903, 905, 907, 909, 911, 913, 915, 917, 919, 921, 923, 925, 927, 929, 931, 933, 935, 937, 939, 941, 943, 945, 947, 949, 951, 953, 955, 957, 959, 961, 963, 965, 967, 969, 971, 973, 975, 977, 979, 981, 983, 985, 987, 989, 991, 993, 995, 997, 999]\n"
     ]
    }
   ],
   "source": [
    "#السؤال الأول الطلب الثاني\n",
    "\n",
    "odd=[x for x in range(1,1001) if x%2!=0]\n",
    "print(odd)\n",
    "\n"
   ]
  },
  {
   "cell_type": "code",
   "execution_count": 12,
   "id": "3d19ba7c",
   "metadata": {},
   "outputs": [
    {
     "name": "stdout",
     "output_type": "stream",
     "text": [
      "Programming\n",
      "Physics\n"
     ]
    }
   ],
   "source": [
    "#السؤال الأول الطلب الثالث\n",
    "L=['Network','Math','Programming','Physics','Music']\n",
    "for i in L:\n",
    "    if i.startswith('P'):\n",
    "        print(i)\n"
   ]
  },
  {
   "cell_type": "code",
   "execution_count": 15,
   "id": "51e4a45e",
   "metadata": {},
   "outputs": [
    {
     "name": "stdout",
     "output_type": "stream",
     "text": [
      "{1: 1, 2: 4, 3: 9, 4: 16, 5: 25, 6: 36, 7: 49, 8: 64, 9: 81, 10: 100}\n"
     ]
    }
   ],
   "source": [
    "#السؤال الأول الطلب الرابع\n",
    "d={x:x**2 for x in range(1,11)}\n",
    "print(d)"
   ]
  },
  {
   "cell_type": "code",
   "execution_count": 20,
   "id": "95587ba9",
   "metadata": {},
   "outputs": [
    {
     "name": "stdout",
     "output_type": "stream",
     "text": [
      "enter decimal and -1 to stop: 10\n",
      "1010\n",
      "enter decimal and -1 to stop: 9\n",
      "1001\n",
      "enter decimal and -1 to stop: 2\n",
      "10\n",
      "enter decimal and -1 to stop: -1\n"
     ]
    }
   ],
   "source": [
    "#السؤال الثاني\n",
    "def func(par1):\n",
    "    binary=[]\n",
    "    while par1>0:\n",
    "        binary.append(par1%2)\n",
    "        par1//=2\n",
    "    binary.reverse()\n",
    "    return binary\n",
    "while True:\n",
    "    n=int(input('enter decimal and -1 to stop: '))    \n",
    "    if n==-1:\n",
    "        break\n",
    "    m=func(n)\n",
    "    for i in m:\n",
    "        print(i,end='')\n",
    "    print()"
   ]
  },
  {
   "cell_type": "code",
   "execution_count": 28,
   "id": "1181acdf",
   "metadata": {},
   "outputs": [
    {
     "name": "stdout",
     "output_type": "stream",
     "text": [
      "enter your name: ramaq\n",
      "55+13\n",
      "68\n",
      "2+50\n",
      "52\n",
      "5*3\n",
      "15\n",
      "10*10\n",
      "100\n",
      "55+13\n",
      "68\n",
      "2+50\n",
      "52\n",
      "5*3\n",
      "15\n",
      "10*10\n",
      "100\n",
      "55+13\n",
      "68\n",
      "2+50\n",
      "52\n",
      "5*3\n",
      "15\n",
      "10*10\n",
      "100\n",
      "55+13\n",
      "4\n",
      "2+50\n",
      "4\n",
      "5*3\n",
      "4\n",
      "10*10\n",
      "4\n",
      "55+13\n",
      "4\n",
      "2+50\n",
      "4\n",
      "5*3\n",
      "4\n",
      "['ramaq\\n', '12']\n"
     ]
    }
   ],
   "source": [
    "#السؤال الثالث\n",
    "username=input('enter your name: ')\n",
    "infile='t.txt'\n",
    "outfile='outfile.txt'\n",
    "infile1=open(infile,'r')\n",
    "infile2=open(infile,'r')\n",
    "outfile=open(outfile,'w')\n",
    "a=0\n",
    "l1=[line.rstrip().split(',')[0] for line in infile1]\n",
    "l2=[line.rstrip().split(',')[-1] for line in infile2]\n",
    "infile1.close()\n",
    "infile1.close()\n",
    "for i in range(len(l1)):\n",
    "    print(l1[i])\n",
    "    answer=input()\n",
    "    if answer ==l2[i]:\n",
    "        a+=1\n",
    "l=[username+'\\n',str(a)]\n",
    "print(l)\n",
    "outfile.writelines(l)\n",
    "outfile.close()\n"
   ]
  },
  {
   "cell_type": "code",
   "execution_count": null,
   "id": "df817c2f",
   "metadata": {},
   "outputs": [],
   "source": []
  }
 ],
 "metadata": {
  "kernelspec": {
   "display_name": "Python 3 (ipykernel)",
   "language": "python",
   "name": "python3"
  },
  "language_info": {
   "codemirror_mode": {
    "name": "ipython",
    "version": 3
   },
   "file_extension": ".py",
   "mimetype": "text/x-python",
   "name": "python",
   "nbconvert_exporter": "python",
   "pygments_lexer": "ipython3",
   "version": "3.10.4"
  }
 },
 "nbformat": 4,
 "nbformat_minor": 5
}
